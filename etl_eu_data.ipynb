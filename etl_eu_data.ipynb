{
 "cells": [
  {
   "cell_type": "code",
   "execution_count": 1,
   "metadata": {},
   "outputs": [
    {
     "name": "stdout",
     "output_type": "stream",
     "text": [
      "Requirement already satisfied: xlrd in /Users/romeokienzler/opt/anaconda3/envs/tf2.0/lib/python3.7/site-packages (1.2.0)\n"
     ]
    }
   ],
   "source": [
    "#!pip install pandas xlrd"
   ]
  },
  {
   "cell_type": "code",
   "execution_count": 2,
   "metadata": {},
   "outputs": [
    {
     "name": "stdout",
     "output_type": "stream",
     "text": [
      "Data unavailable, diggin 1 days into past\n"
     ]
    },
    {
     "data": {
      "text/plain": [
       "'https://www.ecdc.europa.eu/sites/default/files/documents/COVID-19-geographic-disbtribution-worldwide-2020-04-28.xlsx'"
      ]
     },
     "execution_count": 2,
     "metadata": {},
     "output_type": "execute_result"
    }
   ],
   "source": [
    "from datetime import date, timedelta\n",
    "import requests\n",
    "\n",
    "today = date.today()\n",
    "def url_exists(url):\n",
    "    resp = requests.head(url)\n",
    "    return resp.status_code == 200\n",
    "\n",
    "for into_past in range(5):\n",
    "    today = str(date.today() - timedelta(days=into_past))\n",
    "    url = 'https://www.ecdc.europa.eu/sites/default/files/documents/COVID-19-geographic-disbtribution-worldwide-'+today+'.xlsx'\n",
    "    if not url_exists(url):\n",
    "        print('Data unavailable, diggin %s days into past' % (into_past+1))\n",
    "    else:\n",
    "        break\n",
    "\n",
    "url"
   ]
  },
  {
   "cell_type": "code",
   "execution_count": 3,
   "metadata": {},
   "outputs": [],
   "source": [
    "import pandas as pd\n",
    "df_raw =pd.read_excel(url)\n"
   ]
  },
  {
   "cell_type": "code",
   "execution_count": 4,
   "metadata": {},
   "outputs": [],
   "source": [
    "df_raw.to_csv('cases.csv')"
   ]
  }
 ],
 "metadata": {
  "kernelspec": {
   "display_name": "Python 3",
   "language": "python",
   "name": "python3"
  },
  "language_info": {
   "codemirror_mode": {
    "name": "ipython",
    "version": 3
   },
   "file_extension": ".py",
   "mimetype": "text/x-python",
   "name": "python",
   "nbconvert_exporter": "python",
   "pygments_lexer": "ipython3",
   "version": "3.7.6"
  }
 },
 "nbformat": 4,
 "nbformat_minor": 4
}
